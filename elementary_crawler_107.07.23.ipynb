{
 "cells": [
  {
   "cell_type": "markdown",
   "metadata": {},
   "source": [
    "# elementarysch wiki crawler"
   ]
  },
  {
   "cell_type": "code",
   "execution_count": 1,
   "metadata": {},
   "outputs": [],
   "source": [
    "import requests #抓取資料\n",
    "import pandas as pd #抓取表格\n",
    "import csv"
   ]
  },
  {
   "cell_type": "code",
   "execution_count": 2,
   "metadata": {},
   "outputs": [],
   "source": [
    "ele_r = requests.get(\"https://zh.wikipedia.org/wiki/%E8%87%BA%E5%8C%97%E5%B8%82%E5%9C%8B%E6%B0%91%E5%B0%8F%E5%AD%B8%E5%88%97%E8%A1%A8\")"
   ]
  },
  {
   "cell_type": "code",
   "execution_count": 3,
   "metadata": {},
   "outputs": [],
   "source": [
    "#取得所有表格\n",
    "ele_tb = pd.read_html(ele_r.text)\n",
    "#print(type(table)) #list\n",
    "#print(table[:12])"
   ]
  },
  {
   "cell_type": "code",
   "execution_count": 13,
   "metadata": {
    "scrolled": true
   },
   "outputs": [],
   "source": [
    "for ele_t in ele_tb :\n",
    "    ele_text = pd.concat(ele_tb[0:12])\n",
    "#print(text) \n",
    "#print(type(text)) #pandas.core.frame.DataFrame"
   ]
  },
  {
   "cell_type": "code",
   "execution_count": 21,
   "metadata": {},
   "outputs": [],
   "source": [
    "ele_text = ele_text.drop([2],axis=1)\n",
    "ele_text.columns = ['校名','地址']"
   ]
  },
  {
   "cell_type": "code",
   "execution_count": 22,
   "metadata": {},
   "outputs": [],
   "source": [
    "df = pd.DataFrame(ele_text)\n",
    "ele_cltext = df.drop_duplicates()\n",
    "ele_cltext = ele_cltext.drop([0])"
   ]
  },
  {
   "cell_type": "code",
   "execution_count": 23,
   "metadata": {},
   "outputs": [],
   "source": [
    "out_path = \"C:/Users/Big data/Education/elemen.csv\"\n",
    "ele_cltext.to_csv(out_path,index = False,encoding = 'utf-8-sig')"
   ]
  }
 ],
 "metadata": {
  "kernelspec": {
   "display_name": "Python 3",
   "language": "python",
   "name": "python3"
  },
  "language_info": {
   "codemirror_mode": {
    "name": "ipython",
    "version": 3
   },
   "file_extension": ".py",
   "mimetype": "text/x-python",
   "name": "python",
   "nbconvert_exporter": "python",
   "pygments_lexer": "ipython3",
   "version": "3.6.5"
  }
 },
 "nbformat": 4,
 "nbformat_minor": 2
}
