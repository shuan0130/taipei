{
 "cells": [
  {
   "cell_type": "code",
   "execution_count": 1,
   "metadata": {
    "scrolled": true
   },
   "outputs": [
    {
     "ename": "IndentationError",
     "evalue": "unindent does not match any outer indentation level (bugtest.py, line 9)",
     "output_type": "error",
     "traceback": [
      "Traceback \u001b[1;36m(most recent call last)\u001b[0m:\n",
      "  File \u001b[0;32m\"c:\\users\\big data\\appdata\\local\\programs\\python\\python36-32\\lib\\site-packages\\IPython\\core\\interactiveshell.py\"\u001b[0m, line \u001b[0;32m2963\u001b[0m, in \u001b[0;35mrun_code\u001b[0m\n    exec(code_obj, self.user_global_ns, self.user_ns)\n",
      "\u001b[1;36m  File \u001b[1;32m\"<ipython-input-1-5df27511e835>\"\u001b[1;36m, line \u001b[1;32m10\u001b[1;36m, in \u001b[1;35m<module>\u001b[1;36m\u001b[0m\n\u001b[1;33m    from bugtest import state_code_compute\u001b[0m\n",
      "\u001b[1;36m  File \u001b[1;32m\"C:\\Users\\Big data\\Education\\edu_crawler\\taipei\\bugtest.py\"\u001b[1;36m, line \u001b[1;32m9\u001b[0m\n\u001b[1;33m    scale_km = 0.5\u001b[0m\n\u001b[1;37m                  ^\u001b[0m\n\u001b[1;31mIndentationError\u001b[0m\u001b[1;31m:\u001b[0m unindent does not match any outer indentation level\n"
     ]
    }
   ],
   "source": [
    "import requests\n",
    "import pandas as pd\n",
    "from bs4 import BeautifulSoup\n",
    "import csv\n",
    "import threading\n",
    "import time\n",
    "import re\n",
    "import numpy as np\n",
    "from bugtest import state_code_compute"
   ]
  },
  {
   "cell_type": "code",
   "execution_count": 11,
   "metadata": {},
   "outputs": [],
   "source": [
    "def test():\n",
    "    df = pd.read_csv(\"C:/Users/Big data/Education/juniorhighsch.csv\")\n",
    "    lat = list(df.columns).index('lan')\n",
    "    lon = list(df.columns).index('long')\n",
    "    new_col = df.apply(state_code_compute,axis=1)\n",
    "    df['state_code'] = new_col"
   ]
  },
  {
   "cell_type": "code",
   "execution_count": 12,
   "metadata": {},
   "outputs": [
    {
     "name": "stderr",
     "output_type": "stream",
     "text": [
      "Exception in thread Thread-9:\n",
      "Traceback (most recent call last):\n",
      "  File \"c:\\users\\big data\\appdata\\local\\programs\\python\\python36-32\\lib\\threading.py\", line 916, in _bootstrap_inner\n",
      "    self.run()\n",
      "  File \"c:\\users\\big data\\appdata\\local\\programs\\python\\python36-32\\lib\\threading.py\", line 864, in run\n",
      "    self._target(*self._args, **self._kwargs)\n",
      "  File \"<ipython-input-11-7e723bb0209e>\", line 5, in test\n",
      "    new_col = df.apply(state_code_compute,axis=1)\n",
      "  File \"c:\\users\\big data\\appdata\\local\\programs\\python\\python36-32\\lib\\site-packages\\pandas\\core\\frame.py\", line 6004, in apply\n",
      "    return op.get_result()\n",
      "  File \"c:\\users\\big data\\appdata\\local\\programs\\python\\python36-32\\lib\\site-packages\\pandas\\core\\apply.py\", line 142, in get_result\n",
      "    return self.apply_standard()\n",
      "  File \"c:\\users\\big data\\appdata\\local\\programs\\python\\python36-32\\lib\\site-packages\\pandas\\core\\apply.py\", line 248, in apply_standard\n",
      "    self.apply_series_generator()\n",
      "  File \"c:\\users\\big data\\appdata\\local\\programs\\python\\python36-32\\lib\\site-packages\\pandas\\core\\apply.py\", line 277, in apply_series_generator\n",
      "    results[i] = self.f(v)\n",
      "  File \"C:\\Users\\Big data\\Education\\edu_crawler\\taipei\\bugtest.py\", line 12, in state_code_compute\n",
      "    lat_to_km = lat*110.574\n",
      "NameError: (\"name 'cos' is not defined\", 'occurred at index 0')\n",
      "\n"
     ]
    }
   ],
   "source": [
    "t1 = threading.Thread(target=test)\n",
    "t1.start()\n",
    "t1.join()"
   ]
  },
  {
   "cell_type": "code",
   "execution_count": null,
   "metadata": {},
   "outputs": [],
   "source": []
  }
 ],
 "metadata": {
  "kernelspec": {
   "display_name": "Python 3",
   "language": "python",
   "name": "python3"
  },
  "language_info": {
   "codemirror_mode": {
    "name": "ipython",
    "version": 3
   },
   "file_extension": ".py",
   "mimetype": "text/x-python",
   "name": "python",
   "nbconvert_exporter": "python",
   "pygments_lexer": "ipython3",
   "version": "3.6.5"
  }
 },
 "nbformat": 4,
 "nbformat_minor": 2
}
