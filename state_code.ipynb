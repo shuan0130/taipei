{
 "cells": [
  {
   "cell_type": "code",
   "execution_count": 1,
   "metadata": {},
   "outputs": [],
   "source": [
    "import pandas as pd\n",
    "from math import cos"
   ]
  },
  {
   "cell_type": "code",
   "execution_count": 2,
   "metadata": {},
   "outputs": [],
   "source": [
    "def state_code_compute(x):\n",
    "    scale_km = 0.5\n",
    "    lat = x[4]\n",
    "    lon = x[5]\n",
    "    lat_to_km = lat*110.574\n",
    "    lon_to_km = abs(lon*(111.320*cos(lat)))\n",
    "\n",
    "    state_code_x = str(int(lat_to_km//scale_km))\n",
    "    state_code_y = str(int(lon_to_km//scale_km))\n",
    "    if len(state_code_y) == 4:\n",
    "        state_code_y = '0'+state_code_y\n",
    "    state_code = state_code_x+state_code_y\n",
    "    return state_code"
   ]
  },
  {
   "cell_type": "code",
   "execution_count": 12,
   "metadata": {},
   "outputs": [],
   "source": [
    "rst = pd.read_csv('C:/Users/Big data/Education/elemen.csv')"
   ]
  },
  {
   "cell_type": "code",
   "execution_count": 13,
   "metadata": {},
   "outputs": [
    {
     "data": {
      "text/html": [
       "<div>\n",
       "<style scoped>\n",
       "    .dataframe tbody tr th:only-of-type {\n",
       "        vertical-align: middle;\n",
       "    }\n",
       "\n",
       "    .dataframe tbody tr th {\n",
       "        vertical-align: top;\n",
       "    }\n",
       "\n",
       "    .dataframe thead th {\n",
       "        text-align: right;\n",
       "    }\n",
       "</style>\n",
       "<table border=\"1\" class=\"dataframe\">\n",
       "  <thead>\n",
       "    <tr style=\"text-align: right;\">\n",
       "      <th></th>\n",
       "      <th>校名</th>\n",
       "      <th>地址</th>\n",
       "      <th>lan</th>\n",
       "      <th>long</th>\n",
       "    </tr>\n",
       "  </thead>\n",
       "  <tbody>\n",
       "    <tr>\n",
       "      <th>0</th>\n",
       "      <td>臺北市立松山國民小學</td>\n",
       "      <td>八徳路四段746号</td>\n",
       "      <td>25.050036</td>\n",
       "      <td>121.564953</td>\n",
       "    </tr>\n",
       "    <tr>\n",
       "      <th>1</th>\n",
       "      <td>臺北市立西松國民小學</td>\n",
       "      <td>東光里三民路5号</td>\n",
       "      <td>25.052302</td>\n",
       "      <td>121.563488</td>\n",
       "    </tr>\n",
       "    <tr>\n",
       "      <th>2</th>\n",
       "      <td>臺北市立敦化國民小學</td>\n",
       "      <td>中正里敦化北路2号</td>\n",
       "      <td>25.049104</td>\n",
       "      <td>121.548531</td>\n",
       "    </tr>\n",
       "    <tr>\n",
       "      <th>3</th>\n",
       "      <td>臺北市立民生國民小學</td>\n",
       "      <td>敦化北路199巷18号</td>\n",
       "      <td>25.056515</td>\n",
       "      <td>121.552179</td>\n",
       "    </tr>\n",
       "    <tr>\n",
       "      <th>4</th>\n",
       "      <td>臺北市立民權國民小學</td>\n",
       "      <td>民權東路四段200号</td>\n",
       "      <td>25.062387</td>\n",
       "      <td>121.562304</td>\n",
       "    </tr>\n",
       "  </tbody>\n",
       "</table>\n",
       "</div>"
      ],
      "text/plain": [
       "           校名           地址        lan        long\n",
       "0  臺北市立松山國民小學    八徳路四段746号  25.050036  121.564953\n",
       "1  臺北市立西松國民小學     東光里三民路5号  25.052302  121.563488\n",
       "2  臺北市立敦化國民小學    中正里敦化北路2号  25.049104  121.548531\n",
       "3  臺北市立民生國民小學  敦化北路199巷18号  25.056515  121.552179\n",
       "4  臺北市立民權國民小學   民權東路四段200号  25.062387  121.562304"
      ]
     },
     "execution_count": 13,
     "metadata": {},
     "output_type": "execute_result"
    }
   ],
   "source": [
    "rst.head()"
   ]
  },
  {
   "cell_type": "code",
   "execution_count": 14,
   "metadata": {},
   "outputs": [
    {
     "data": {
      "text/plain": [
       "(2, 3)"
      ]
     },
     "execution_count": 14,
     "metadata": {},
     "output_type": "execute_result"
    }
   ],
   "source": [
    "lat = list(rst.columns).index('lan')\n",
    "lon = list(rst.columns).index('long')\n",
    "(lat,lon)"
   ]
  },
  {
   "cell_type": "code",
   "execution_count": 15,
   "metadata": {},
   "outputs": [],
   "source": [
    "def calculation(x):\n",
    "    return x[2],x[3]"
   ]
  },
  {
   "cell_type": "code",
   "execution_count": 34,
   "metadata": {
    "scrolled": true
   },
   "outputs": [],
   "source": [
    "new_col = rst.apply(state_code_compute,axis=1)"
   ]
  },
  {
   "cell_type": "code",
   "execution_count": 8,
   "metadata": {},
   "outputs": [
    {
     "data": {
      "text/plain": [
       "0    553426902\n",
       "1    553426905\n",
       "2    553026848\n",
       "3    554727027\n",
       "4    554827029\n",
       "dtype: object"
      ]
     },
     "execution_count": 8,
     "metadata": {},
     "output_type": "execute_result"
    }
   ],
   "source": [
    "rst['state_code'] = new_col\n",
    "new_col.head()"
   ]
  },
  {
   "cell_type": "code",
   "execution_count": 9,
   "metadata": {},
   "outputs": [
    {
     "data": {
      "text/plain": [
       "(452,)"
      ]
     },
     "execution_count": 9,
     "metadata": {},
     "output_type": "execute_result"
    }
   ],
   "source": [
    "new_col.shape"
   ]
  },
  {
   "cell_type": "code",
   "execution_count": 10,
   "metadata": {},
   "outputs": [
    {
     "data": {
      "text/plain": [
       "pandas.core.series.Series"
      ]
     },
     "execution_count": 10,
     "metadata": {},
     "output_type": "execute_result"
    }
   ],
   "source": [
    "type(new_col)"
   ]
  },
  {
   "cell_type": "code",
   "execution_count": 11,
   "metadata": {
    "scrolled": true
   },
   "outputs": [
    {
     "data": {
      "text/html": [
       "<div>\n",
       "<style scoped>\n",
       "    .dataframe tbody tr th:only-of-type {\n",
       "        vertical-align: middle;\n",
       "    }\n",
       "\n",
       "    .dataframe tbody tr th {\n",
       "        vertical-align: top;\n",
       "    }\n",
       "\n",
       "    .dataframe thead th {\n",
       "        text-align: right;\n",
       "    }\n",
       "</style>\n",
       "<table border=\"1\" class=\"dataframe\">\n",
       "  <thead>\n",
       "    <tr style=\"text-align: right;\">\n",
       "      <th></th>\n",
       "      <th>name</th>\n",
       "      <th>schoolType</th>\n",
       "      <th>district</th>\n",
       "      <th>address</th>\n",
       "      <th>lat</th>\n",
       "      <th>lon</th>\n",
       "      <th>state_code</th>\n",
       "    </tr>\n",
       "  </thead>\n",
       "  <tbody>\n",
       "    <tr>\n",
       "      <th>0</th>\n",
       "      <td>國立臺灣師範大學-1</td>\n",
       "      <td>college</td>\n",
       "      <td>大安區</td>\n",
       "      <td>和平東路一段162號</td>\n",
       "      <td>25.025913</td>\n",
       "      <td>121.528313</td>\n",
       "      <td>553426902</td>\n",
       "    </tr>\n",
       "    <tr>\n",
       "      <th>1</th>\n",
       "      <td>國立臺灣師範大學-2</td>\n",
       "      <td>college</td>\n",
       "      <td>大安區</td>\n",
       "      <td>和平東路一段129號</td>\n",
       "      <td>25.026815</td>\n",
       "      <td>121.528748</td>\n",
       "      <td>553426905</td>\n",
       "    </tr>\n",
       "    <tr>\n",
       "      <th>2</th>\n",
       "      <td>國立臺灣師範大學-3</td>\n",
       "      <td>college</td>\n",
       "      <td>文山區</td>\n",
       "      <td>汀州路四段88號</td>\n",
       "      <td>25.008063</td>\n",
       "      <td>121.536628</td>\n",
       "      <td>553026848</td>\n",
       "    </tr>\n",
       "    <tr>\n",
       "      <th>3</th>\n",
       "      <td>銘傳大學-1</td>\n",
       "      <td>college</td>\n",
       "      <td>士林區</td>\n",
       "      <td>中山北路五段250號</td>\n",
       "      <td>25.086068</td>\n",
       "      <td>121.527551</td>\n",
       "      <td>554727027</td>\n",
       "    </tr>\n",
       "    <tr>\n",
       "      <th>4</th>\n",
       "      <td>銘傳大學-2</td>\n",
       "      <td>college</td>\n",
       "      <td>士林區</td>\n",
       "      <td>基河路130號3樓</td>\n",
       "      <td>25.089003</td>\n",
       "      <td>121.522886</td>\n",
       "      <td>554827029</td>\n",
       "    </tr>\n",
       "  </tbody>\n",
       "</table>\n",
       "</div>"
      ],
      "text/plain": [
       "         name schoolType district      address        lat         lon  \\\n",
       "0  國立臺灣師範大學-1    college      大安區  和平東路一段162號   25.025913  121.528313   \n",
       "1  國立臺灣師範大學-2    college      大安區  和平東路一段129號   25.026815  121.528748   \n",
       "2  國立臺灣師範大學-3    college      文山區     汀州路四段88號  25.008063  121.536628   \n",
       "3      銘傳大學-1    college      士林區   中山北路五段250號  25.086068  121.527551   \n",
       "4      銘傳大學-2    college      士林區    基河路130號3樓  25.089003  121.522886   \n",
       "\n",
       "  state_code  \n",
       "0  553426902  \n",
       "1  553426905  \n",
       "2  553026848  \n",
       "3  554727027  \n",
       "4  554827029  "
      ]
     },
     "execution_count": 11,
     "metadata": {},
     "output_type": "execute_result"
    }
   ],
   "source": [
    "rst.head()"
   ]
  },
  {
   "cell_type": "code",
   "execution_count": null,
   "metadata": {},
   "outputs": [],
   "source": [
    "rst.to_csv('Education/edu_all_statecode.csv',encoding='utf-8',header = True, index = False)"
   ]
  },
  {
   "cell_type": "code",
   "execution_count": 31,
   "metadata": {},
   "outputs": [],
   "source": [
    "# 將state_code做切割\n",
    "def state_codecut(x):\n",
    "    loc = str(x[6])\n",
    "    lat = loc[:4]\n",
    "    lon = loc[4:]\n",
    "    return lat,lon,type(x)"
   ]
  },
  {
   "cell_type": "code",
   "execution_count": 33,
   "metadata": {},
   "outputs": [],
   "source": [
    "code_split = rst.apply(state_codecut,axis=1)\n",
    "# code_split"
   ]
  },
  {
   "cell_type": "code",
   "execution_count": 32,
   "metadata": {},
   "outputs": [],
   "source": [
    "code_split_list = code_split.tolist() \n",
    "# code_split_list"
   ]
  },
  {
   "cell_type": "code",
   "execution_count": 37,
   "metadata": {},
   "outputs": [
    {
     "name": "stdout",
     "output_type": "stream",
     "text": [
      "lat:( 5522 , 5565 )\n",
      "lon:( 26718 , 27067 )\n"
     ]
    }
   ],
   "source": [
    "lat_list = []\n",
    "lon_list = []\n",
    "for tup in code_split_list:\n",
    "    lat_tmp = int(tup[0])\n",
    "    lat_list.append(lat_tmp)\n",
    "    lon_tmp = int(tup[1])\n",
    "    lon_list.append(lon_tmp)\n",
    "print(\"lat:(\",sorted(lat_list)[0],\",\",sorted(lat_list)[len(lat_list)-1],\")\")\n",
    "print(\"lon:(\",sorted(lon_list)[0],\",\",sorted(lon_list)[len(lon_list)-1],\")\")"
   ]
  }
 ],
 "metadata": {
  "kernelspec": {
   "display_name": "Python 3",
   "language": "python",
   "name": "python3"
  },
  "language_info": {
   "codemirror_mode": {
    "name": "ipython",
    "version": 3
   },
   "file_extension": ".py",
   "mimetype": "text/x-python",
   "name": "python",
   "nbconvert_exporter": "python",
   "pygments_lexer": "ipython3",
   "version": "3.6.5"
  }
 },
 "nbformat": 4,
 "nbformat_minor": 2
}
