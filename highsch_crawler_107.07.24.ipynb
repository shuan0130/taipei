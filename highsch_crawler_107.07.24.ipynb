{
 "cells": [
  {
   "cell_type": "markdown",
   "metadata": {},
   "source": [
    "# highschool wiki crawler"
   ]
  },
  {
   "cell_type": "code",
   "execution_count": 9,
   "metadata": {},
   "outputs": [],
   "source": [
    "import requests\n",
    "import pandas as pd\n",
    "from bs4 import BeautifulSoup\n",
    "#from openpyxl import Workbook\n",
    "import csv\n",
    "import re"
   ]
  },
  {
   "cell_type": "code",
   "execution_count": 10,
   "metadata": {},
   "outputs": [],
   "source": [
    "high_r = requests.get(\"https://zh.wikipedia.org/wiki/%E8%87%BA%E5%8C%97%E5%B8%82%E9%AB%98%E7%B4%9A%E4%B8%AD%E7%AD%89%E5%AD%B8%E6%A0%A1%E5%88%97%E8%A1%A8\")\n"
   ]
  },
  {
   "cell_type": "code",
   "execution_count": 11,
   "metadata": {},
   "outputs": [],
   "source": [
    "high_text = pd.read_html(high_r.text)"
   ]
  },
  {
   "cell_type": "code",
   "execution_count": 12,
   "metadata": {
    "scrolled": true
   },
   "outputs": [
    {
     "name": "stdout",
     "output_type": "stream",
     "text": [
      "    0       1                        2  \\\n",
      "0   #    學校名稱                     學校地址   \n",
      "1   1    建國中學        [100]臺北市中正區南海路56號   \n",
      "2   2    北一女中    [100]臺北市中正區重慶南路一段165號   \n",
      "3   3    成功高中      [100]臺北市中正區濟南路一段71號   \n",
      "4   4    南華高中      [100]臺北市中正區汀州路三段58號   \n",
      "5   5    強恕高中     [100]臺北市中正區汀州路二段143號   \n",
      "6   6    開南商工       [100]臺北市中正區濟南路一段6號   \n",
      "0   #    學校名稱                     學校地址   \n",
      "1   1    成淵高中     [103]臺北市大同區承德路二段235號   \n",
      "2   2    志仁高中    [103]臺北市大同區南京西路64巷17號   \n",
      "3   3    明倫高中     [103]臺北市大同區承德路三段336號   \n",
      "4   4    靜修女中        [103]臺北市大同區寧夏路59號   \n",
      "5   5    啟聰學校    [103]臺北市大同區重慶北路三段320號   \n",
      "6   6    稻江高商   [103]臺北市大同區民權西路225巷24號   \n",
      "0   #    學校名稱                     學校地址   \n",
      "1   1    中山女中    [104]臺北市中山區長安東路二段141號   \n",
      "2   2    大直高中       [104]臺北市中山區北安路420號   \n",
      "3   3    中興高中        [104]臺北市中山區朱崙街42號   \n",
      "4   4  市立大同高中       [104]臺北市中山區長春路167號   \n",
      "5   5  私立大同高中     [104]臺北市中山區中山北路三段40號   \n",
      "6   6    稻江護家     [104]臺北市中山區新生北路三段55號   \n",
      "0   #    學校名稱                     學校地址   \n",
      "1   1    中崙高中     [105]臺北市松山區八德路四段101號   \n",
      "2   2    西松高中     [105]臺北市松山區健康路325巷7號   \n",
      "3   3    育達家商        [105]臺北市松山區寧安街12號   \n",
      "0   #    學校名稱                     學校地址   \n",
      "1   1    師大附中     [106]臺北市大安區信義路三段143號   \n",
      "2   2    復興實中    [106]臺北市大安區敦化南路一段262號   \n",
      "3   3    大安高工  [106]臺北市大安區龍圖里復興南路二段52號   \n",
      "4   4    和平高中       [106]臺北市大安區臥龍街100號   \n",
      ".. ..     ...                      ...   \n",
      "0   #    學校名稱                     學校地址   \n",
      "1   1    中正高中       [112]臺北市北投區文林北路77號   \n",
      "2   2    薇閣高中        [112]臺北市北投區珠海路50號   \n",
      "3   3    復興高中       [112]臺北市北投區復興四路70號   \n",
      "4   4    十信高中      [112]臺北市北投區北投路二段55號   \n",
      "5   5    奎山實中       [112]臺北市北投區明德路200號   \n",
      "6   6    惇敘工商       [112]臺北市北投區泉源路221號   \n",
      "0   #    學校名稱                     學校地址   \n",
      "1   1    內湖高中       [114]臺北市內湖區文德路218號   \n",
      "2   2    麗山高中     [114]臺北市內湖區環山路二段100號   \n",
      "3   3    文德女中      [114]臺北市內湖區成功路三段70號   \n",
      "4   4    方濟高中      [114]臺北市內湖區成功路三段61號   \n",
      "5   5    達人女中     [114]臺北市內湖區內湖路二段314號   \n",
      "6   6    南湖高中     [114]臺北市內湖區康寧路三段220號   \n",
      "7   7    內湖高工     [114]臺北市內湖區內湖路一段520號   \n",
      "0   #    學校名稱                     學校地址   \n",
      "1   1    南港高中        [115]臺北市南港區向陽路21號   \n",
      "2   2    南港高工        [115]臺北市南港區興中路29號   \n",
      "3   3    育成高中       [115]臺北市南港區重陽路366號   \n",
      "0   #    學校名稱                     學校地址   \n",
      "1   1    景美女中     [116]臺北市文山區木新路三段312號   \n",
      "2   2    政大附中      [116]臺北市文山區政大一街353號   \n",
      "3   3    木柵高工      [116]臺北市文山區木柵路四段77號   \n",
      "4   4    萬芳高中   [116]臺北市文山區興隆路三段115巷1號   \n",
      "5   5    再興中學       [116]臺北市文山區興隆路四段2號   \n",
      "6   6    大誠高中     [116]臺北市文山區秀明路二段175號   \n",
      "7   7    東山高中      [116]臺北市文山區老泉街26巷3號   \n",
      "8   8    景文高中       [116]臺北市文山區保儀路127號   \n",
      "9   9    滬江高中    [116]臺北市文山區羅斯福路六段336號   \n",
      "10  9    文山特教     [116]臺北市文山區秀明路一段169號   \n",
      "\n",
      "                                                    3                  4  \n",
      "0                                                  網址                 備註  \n",
      "1                             http://www.ck.tp.edu.tw              市立；男校  \n",
      "2                             http://www.fg.tp.edu.tw              市立；女校  \n",
      "3                           http://www.cksh.tp.edu.tw              市立；男校  \n",
      "4                          http://www.nhwsh.tp.edu.tw            私立；進修學校  \n",
      "5                     http://www.qshs.tp.edu.tw/html/     私立；完全中學、附設職業類科  \n",
      "6                           http://www.knvs.tp.edu.tw     私立；綜合高中、附設進修學校  \n",
      "0                                                  網址                 備註  \n",
      "1                           http://www.cyhs.tp.edu.tw       市立；完全中學、綜合高中  \n",
      "2                           http://www.cjvs.tp.edu.tw            私立；進修學校  \n",
      "3                           http://www.mlsh.tp.edu.tw                 市立  \n",
      "4                           http://www.bish.tp.edu.tw    私立；女校；完全中學、綜合高中  \n",
      "5   https://web.archive.org/web/20090726104332/htt...          市立；特殊教育學校  \n",
      "6                         http://www.tkcvs.tp.edu.tw/          私立；附設進修學校  \n",
      "0                                                  網址                 備註  \n",
      "1                          http://www.csghs.tp.edu.tw              市立；女校  \n",
      "2                           http://www.dcsh.tp.edu.tw            市立；完全中學  \n",
      "3                           http://www.chsh.tp.edu.tw          私立；附設進修學校  \n",
      "4                           http://www.ttsh.tp.edu.tw            市立；完全中學  \n",
      "5                           http://www.tsh.ttu.edu.tw  私立；附設職業類科；由大同公司創設  \n",
      "6                         http://www.tcnvs.tp.edu.tw/       私立；女校；附設進修學校  \n",
      "0                                                  網址                 備註  \n",
      "1                           http://www.zlsh.tp.edu.tw            市立；完全中學  \n",
      "2                           http://www.hssh.tp.edu.tw            市立；完全中學  \n",
      "3   https://web.archive.org/web/20031021003636/htt...    私立；附設普通科、附設進修學校  \n",
      "0                                                  網址                 備註  \n",
      "1                           http://www.hs.ntnu.edu.tw            國立；完全中學  \n",
      "2                           http://www.fhjh.tp.edu.tw            私立；完全中學  \n",
      "3                          http://www.taivs.tp.edu.tw     市立；綜合高中、附設進修學校  \n",
      "4                           http://www.hpsh.tp.edu.tw            市立；完全中學  \n",
      "..                                                ...                ...  \n",
      "0                                                  網址                 備註  \n",
      "1                           http://www.ccsh.tp.edu.tw                 市立  \n",
      "2                           http://www.wghs.tp.edu.tw            私立；完全中學  \n",
      "3                           http://www.fhsh.tp.edu.tw                 市立  \n",
      "4                           http://www.shvs.tp.edu.tw          私立；附設職業類科  \n",
      "5                           http://www.ksjh.tp.edu.tw            私立；完全中學  \n",
      "6                          http://www.thvs.tp.edu.tw/          私立；附設進修學校  \n",
      "0                                                  網址                 備註  \n",
      "1                           http://www.nhsh.tp.edu.tw                 市立  \n",
      "2                           http://www.lssh.tp.edu.tw                 市立  \n",
      "3                          http://www.sfgsh.tp.edu.tw         私立；女校；完全中學  \n",
      "4                            http://www.sfh.tp.edu.tw            私立；完全中學  \n",
      "5                          http://www.trgsh.tp.edu.tw         私立；女校；完全中學  \n",
      "6                          http://www.nhush.tp.edu.tw                 市立  \n",
      "7                          http://www.nihs.tp.edu.tw/                 市立  \n",
      "0                                                  網址                 備註  \n",
      "1                           http://www.nksh.tp.edu.tw            市立；完全中學  \n",
      "2                           http://www.nkhs.tp.edu.tw            市立；綜合高中  \n",
      "3                          http://www.yucsh.tp.edu.tw                 市立  \n",
      "0                                                  網址                 備註  \n",
      "1                          http://www.cmgsh.tp.edu.tw              市立；女校  \n",
      "2                          http://www.ahs.nccu.edu.tw            國立；完全中學  \n",
      "3                           http://www.mcvs.tp.edu.tw            市立；綜合高中  \n",
      "4                           http://www.wfsh.tp.edu.tw            市立；完全中學  \n",
      "5                           http://www.thsh.tp.edu.tw            私立；完全中學  \n",
      "6                           http://www.tcsh.tp.edu.tw   私立；附設職業類科、附設進修學校  \n",
      "7                           http://www.tshs.tp.edu.tw            私立；完全中學  \n",
      "8                           http://www.jwsh.tp.edu.tw     私立；完全中學、附設職業類科  \n",
      "9                           http://www.hchs.tp.edu.tw     私立；綜合高中、附設職業類科  \n",
      "10                         http://www.wsses.tp.edu.tw          私立；特殊教育學校  \n",
      "\n",
      "[84 rows x 5 columns]\n",
      "<class 'pandas.core.frame.DataFrame'>\n"
     ]
    }
   ],
   "source": [
    "for h_text in high_text :\n",
    "    h_text = pd.concat(high_text[0:12])\n",
    "# print(h_text)\n",
    "# print(type(h_text))\n"
   ]
  },
  {
   "cell_type": "code",
   "execution_count": 13,
   "metadata": {},
   "outputs": [],
   "source": [
    "h_text = h_text.drop_duplicates()"
   ]
  },
  {
   "cell_type": "code",
   "execution_count": 14,
   "metadata": {},
   "outputs": [],
   "source": [
    "h_text[2] = h_text[2].str.replace('\\[.*\\]','')\n",
    "h_text = h_text.drop([0,4],axis=1) #刪除第1,5行\n",
    "h_text = h_text.drop([0]) # 刪除第1列"
   ]
  },
  {
   "cell_type": "code",
   "execution_count": 17,
   "metadata": {},
   "outputs": [],
   "source": [
    "h_text.columns = ['校名','地址','網址']"
   ]
  },
  {
   "cell_type": "code",
   "execution_count": 16,
   "metadata": {},
   "outputs": [],
   "source": [
    "out_path = \"C:/Users/Big data/Education/highsch.csv\"\n",
    "h_text.to_csv(out_path,index = False,encoding = 'utf-8-sig')"
   ]
  }
 ],
 "metadata": {
  "kernelspec": {
   "display_name": "Python 3",
   "language": "python",
   "name": "python3"
  },
  "language_info": {
   "codemirror_mode": {
    "name": "ipython",
    "version": 3
   },
   "file_extension": ".py",
   "mimetype": "text/x-python",
   "name": "python",
   "nbconvert_exporter": "python",
   "pygments_lexer": "ipython3",
   "version": "3.6.5"
  }
 },
 "nbformat": 4,
 "nbformat_minor": 2
}
